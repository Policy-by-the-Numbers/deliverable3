{
 "cells": [
  {
   "cell_type": "markdown",
   "id": "changed-leone",
   "metadata": {},
   "source": [
    "## Optimization: Exercise 2 & 3\n",
    "\n",
    "Given: A new airline has decided to join the market. It is considering offering flights out of Phoenix, AZ, and would initially like to travel to three different locations: San Diego, San Francisco, and Las Vegas. The distances of each round-trip flight going out of Phoenix are (approximately): 720 miles, 1500 miles, and 1140 miles, respectively. The company would like to use the slogan, \"the average price per flight is never more than $200.\" As for costs, it anticipates flights to San Diego will run about 10% of airfare. Similarly, San Francisco will run 12% and Las Vegas will run 14% of airfare. The company wants to ensure that the overall average cost is no more than 10% of earned airfare. Recent market research allows the company to conclude that it could probably sell about 1900 San Diego tickets, 700 San Francisco tickets, and 1000 Las Vegas ticket. \n",
    "\n",
    "Exercise 3 adds the constraint that the airline can charge no more than $150 per ticket to San Diego in order to be competitive with other airliners that fly to the same destination. Under these conditions and assuming that all tickets sold are round-trip flights, how much should the company charge per ticket in order to maximize its total revenue?"
   ]
  },
  {
   "cell_type": "code",
   "execution_count": 37,
   "id": "alternative-prevention",
   "metadata": {},
   "outputs": [],
   "source": [
    "from pulp import LpMaximize,LpProblem,LpVariable,LpConstraint, value\n",
    "from pulp import COIN_CMD\n",
    "from pulp import LpConstraintGE as GE\n",
    "from pulp import LpConstraintLE as LE\n",
    "\n",
    "model = LpProblem(name='flight-prices', sense=LpMaximize)\n",
    "\n",
    "sd = LpVariable(name=\"San Diego\", lowBound=0,cat='Continuous')\n",
    "sf = LpVariable(name=\"San Francisco\", lowBound=0,cat='Continuous')\n",
    "lv = LpVariable(name=\"Las Vegas\", lowBound=0,cat='Continuous')\n",
    "\n",
    "rev = 1900*sd + 700*sf + 1000*lv\n",
    "\n",
    "C1= LpConstraint(name='Cost Constraint',\n",
    "                 e= 14*sf + 40*lv, sense=LE, rhs=0)\n",
    "C2= LpConstraint(name='Average Price Constraint',\n",
    "                 e= sd + sf + lv, sense=LE, rhs=600)\n",
    "C3= LpConstraint(name='San Diego Constraint',\n",
    "                 e= sd, sense=LE, rhs=150)\n",
    "\n",
    "\n",
    "# build model with info and solve the model\n",
    "\n",
    "model += rev\n",
    "model += C1\n",
    "model += C2\n",
    "model+= C3\n",
    "\n",
    "#solver = COIN_CMD(msg=False)\n",
    "result=model.solve()"
   ]
  },
  {
   "cell_type": "code",
   "execution_count": 38,
   "id": "potential-melissa",
   "metadata": {
    "scrolled": true
   },
   "outputs": [
    {
     "name": "stdout",
     "output_type": "stream",
     "text": [
      "Optimal Result:\n",
      "Las_Vegas = 0.0\n",
      "San_Diego = 150.0\n",
      "San_Francisco = 0.0\n"
     ]
    }
   ],
   "source": [
    "print (\"Optimal Result:\")\n",
    "for variable in model.variables():\n",
    "    print (variable.name, \"=\", variable.varValue)"
   ]
  },
  {
   "cell_type": "code",
   "execution_count": 39,
   "id": "delayed-paris",
   "metadata": {},
   "outputs": [
    {
     "name": "stdout",
     "output_type": "stream",
     "text": [
      "Total net max profit:\n",
      "285000.0\n"
     ]
    }
   ],
   "source": [
    "print (\"Total net max profit:\")\n",
    "print (value(model.objective))"
   ]
  },
  {
   "cell_type": "markdown",
   "id": "virtual-learning",
   "metadata": {},
   "source": [
    "One of the solutions provided by the solver is selling tickets to San Diego for 150 dollars and tickets to the other two locations for 0 dollars. This results in a total net max proift of $285,000. This is only one solution to the optimization problem; an additional analysis of constraints is required to determine whether these prices are truly the best solutions for the airline's operations."
   ]
  }
 ],
 "metadata": {
  "kernelspec": {
   "display_name": "Python 3 (ipykernel)",
   "language": "python",
   "name": "python3"
  },
  "language_info": {
   "codemirror_mode": {
    "name": "ipython",
    "version": 3
   },
   "file_extension": ".py",
   "mimetype": "text/x-python",
   "name": "python",
   "nbconvert_exporter": "python",
   "pygments_lexer": "ipython3",
   "version": "3.9.15"
  }
 },
 "nbformat": 4,
 "nbformat_minor": 5
}
